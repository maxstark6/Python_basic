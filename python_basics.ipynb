{
  "nbformat": 4,
  "nbformat_minor": 0,
  "metadata": {
    "colab": {
      "provenance": []
    },
    "kernelspec": {
      "name": "python3",
      "display_name": "Python 3"
    },
    "language_info": {
      "name": "python"
    }
  },
  "cells": [
    {
      "cell_type": "markdown",
      "source": [
        "PYTHON BASICS"
      ],
      "metadata": {
        "id": "gaGnwkS-bv6t"
      }
    },
    {
      "cell_type": "markdown",
      "source": [
        "Q1 What is Python, and why is it popular\n",
        "  - Python is a high-level programming language.\n",
        "  - it’s so popular is because of its simple syntax and vast library collection\n",
        "     "
      ],
      "metadata": {
        "id": "ZKSq-XyTb3pm"
      }
    },
    {
      "cell_type": "markdown",
      "source": [
        "Q2 What is an interpreter in Python\n",
        "  - it is a program that reads and runs Python code line by line."
      ],
      "metadata": {
        "id": "kOxAt0JDdjHF"
      }
    },
    {
      "cell_type": "markdown",
      "source": [
        "Q3 What are pre-defined keywords in Python\n",
        "  - these are special words that have a fixed meaning and purpose and can't be use for anything else\n",
        "  - example print , if, else."
      ],
      "metadata": {
        "id": "QhlRCQUkeF2U"
      }
    },
    {
      "cell_type": "markdown",
      "source": [
        "Q4 Can keywords be used as variable names\n",
        " - NO"
      ],
      "metadata": {
        "id": "phzub7DkfDyE"
      }
    },
    {
      "cell_type": "markdown",
      "source": [
        " Q5 What is mutability in Python\n",
        "\n",
        "- that means the value of an object can be changed after it is created, that means we can change the content in it"
      ],
      "metadata": {
        "id": "h6gcyrb1ggdC"
      }
    },
    {
      "cell_type": "markdown",
      "source": [
        "Q6 Why are lists mutable, but tuples are immutable\n",
        " -  the value/content of an list can be changed after it is created\n",
        " -  the value/content of an tuple can't be changed after it is created"
      ],
      "metadata": {
        "id": "8BiZyythgnC5"
      }
    },
    {
      "cell_type": "markdown",
      "source": [
        "Q7 What is the difference between “==” and “is” operators in Python\n",
        "- == is used to check if two values are equal\n",
        "- is is used to check if two variables point to the same object in memory"
      ],
      "metadata": {
        "id": "ZCab9K6_he7A"
      }
    },
    {
      "cell_type": "markdown",
      "source": [
        "Q8 What are logical operators in Python\n",
        "  - these are used to combine conditional statements\n",
        "  - these are and , or ,not"
      ],
      "metadata": {
        "id": "9N_VzurdiabC"
      }
    },
    {
      "cell_type": "markdown",
      "source": [
        "Q9 What is type casting in Python\n",
        "  - it means changing the data type of a value\n",
        "  - ex convert integer into string"
      ],
      "metadata": {
        "id": "m-CAf51Ci6ub"
      }
    },
    {
      "cell_type": "markdown",
      "source": [
        "Q10 What is the difference between implicit and explicit type casting\n",
        "- implicit type castingis automatically done by Python\n",
        "- Explicit type casting is done manually by the programmer using functions like int, float, or str"
      ],
      "metadata": {
        "id": "kNROWYj_jgNp"
      }
    },
    {
      "cell_type": "markdown",
      "source": [
        "Q11 What is the purpose of conditional statements in Python\n",
        "- Conditional statements allow us to run different pieces of code based on certain conditions.\n",
        "- It helps in decision-making.\n",
        "- ex if ,else ,elif"
      ],
      "metadata": {
        "id": "DzTAFLmHcb63"
      }
    },
    {
      "cell_type": "markdown",
      "source": [
        "Q12 How does the elif statement work\n",
        " -  It is used when we want to check multiple conditions. If the if condition is false, Python will check the elif.\n",
        " - If the elif is also false, it will move to the next elif or the final else."
      ],
      "metadata": {
        "id": "_zyDoBW1eI5U"
      }
    },
    {
      "cell_type": "markdown",
      "source": [
        "Q13 What is the difference between for and while loops\n",
        "- A for loop is used when we know  how many times we want to run a block of code.\n",
        "-A while loop is used when we don’t know the exact number of times, but we want to continue looping until a condition becomes false."
      ],
      "metadata": {
        "id": "jVao2xoOef08"
      }
    },
    {
      "cell_type": "markdown",
      "source": [
        "Q14 Describe a scenario where a while loop is more suitable than a for loop\n",
        "- Let’s say we are creating a program that keeps asking the user for a password until they enter the correct one. In this case, we don’t know how many times the user will enter the wrong password, so a while loop is better."
      ],
      "metadata": {
        "id": "ssObWAbFe180"
      }
    },
    {
      "cell_type": "code",
      "source": [
        "# 1. Write a Python program to print \"Hello, World!\"\n",
        "print(\"Hello, World!\")"
      ],
      "metadata": {
        "colab": {
          "base_uri": "https://localhost:8080/"
        },
        "id": "oaqhlNocfgeS",
        "outputId": "406a0886-32db-416a-cb8b-33ab74c4b2ef"
      },
      "execution_count": 14,
      "outputs": [
        {
          "output_type": "stream",
          "name": "stdout",
          "text": [
            "Hello, World!\n"
          ]
        }
      ]
    },
    {
      "cell_type": "code",
      "source": [
        "# 2. Write a Python program that displays your name and age\n",
        "name = input(\"enter your name : \")\n",
        "age = input(\"enter your age : \")\n",
        "print(f\"your name is {name} and your age is {age}\")\n",
        "\n"
      ],
      "metadata": {
        "id": "c3epy3Chb284",
        "colab": {
          "base_uri": "https://localhost:8080/"
        },
        "outputId": "12a352be-5ae2-486d-fcea-2e42041c56d2"
      },
      "execution_count": 15,
      "outputs": [
        {
          "output_type": "stream",
          "name": "stdout",
          "text": [
            "enter your name : 33\n",
            "enter your age : 33\n",
            "your name is 33 and your age is 33\n"
          ]
        }
      ]
    },
    {
      "cell_type": "code",
      "source": [
        "# 3. Write code to print all the pre-defined keywords in Python using the keyword library\n",
        "import keyword\n",
        "print(\"Python Keywords are:\" , keyword.kwlist)\n"
      ],
      "metadata": {
        "colab": {
          "base_uri": "https://localhost:8080/"
        },
        "id": "ZUDVvNtBghNS",
        "outputId": "fa5695b2-5d56-4282-b9e4-7e2b9b51ee92"
      },
      "execution_count": 16,
      "outputs": [
        {
          "output_type": "stream",
          "name": "stdout",
          "text": [
            "Python Keywords are: ['False', 'None', 'True', 'and', 'as', 'assert', 'async', 'await', 'break', 'class', 'continue', 'def', 'del', 'elif', 'else', 'except', 'finally', 'for', 'from', 'global', 'if', 'import', 'in', 'is', 'lambda', 'nonlocal', 'not', 'or', 'pass', 'raise', 'return', 'try', 'while', 'with', 'yield']\n"
          ]
        }
      ]
    },
    {
      "cell_type": "code",
      "source": [
        "# 4. Write a program that checks if a given word is a Python keyword.\n",
        "word = input(\"Enter a word: \")\n",
        "if keyword.iskeyword(word):\n",
        "    print(word, \"is a Python keyword.\")\n",
        "else:\n",
        "    print(word, \"is not a Python keyword.\")"
      ],
      "metadata": {
        "colab": {
          "base_uri": "https://localhost:8080/"
        },
        "id": "DlMgUePegz7n",
        "outputId": "ca643c7d-216a-4e9b-8e93-49445db6476d"
      },
      "execution_count": 17,
      "outputs": [
        {
          "output_type": "stream",
          "name": "stdout",
          "text": [
            "Enter a word: 33\n",
            "33 is not a Python keyword.\n"
          ]
        }
      ]
    },
    {
      "cell_type": "code",
      "source": [
        "# 5.Create a list and tuple in Python, and demonstrate how attempting to change an element works differently for each.\n",
        "my_list = [1, 2, 3]\n",
        "my_tuple = (1, 2, 3)\n",
        "my_list[0] = 10\n",
        "print(\"Updated List:\", my_list)\n",
        "\n",
        "# This will raise an error because tuples are immutable\n",
        "# my_tuple[0] = 10\n",
        "# print(\"Updated Tuple:\", my_tuple)"
      ],
      "metadata": {
        "colab": {
          "base_uri": "https://localhost:8080/"
        },
        "id": "qUh2TB_JhLio",
        "outputId": "a34a2141-c1c6-4bde-f2b9-626d3bdddf12"
      },
      "execution_count": 18,
      "outputs": [
        {
          "output_type": "stream",
          "name": "stdout",
          "text": [
            "Updated List: [10, 2, 3]\n"
          ]
        }
      ]
    },
    {
      "cell_type": "code",
      "source": [
        "# 6. Write a function to demonstrate the behavior of mutable and immutable arguments\n",
        "def change_string(s):\n",
        "    s = s + \" world\"\n",
        "    return s\n",
        "def change_list(lst):\n",
        "    lst.append(\"world\")\n",
        "\n",
        "# Immutable ex\n",
        "my_str = \"hello\"\n",
        "new_str = change_string(my_str)\n",
        "print(\"Original String:\", my_str)\n",
        "print(\"Returned String:\", new_str)\n",
        "\n",
        "# Mutable ex\n",
        "my_list = [\"hello\"]\n",
        "change_list(my_list)\n",
        "print(\"Modified List:\", my_list)"
      ],
      "metadata": {
        "colab": {
          "base_uri": "https://localhost:8080/"
        },
        "id": "N_cQz6TrijKA",
        "outputId": "3a5b9362-714f-42bd-b0d8-f11dac11d55e"
      },
      "execution_count": 19,
      "outputs": [
        {
          "output_type": "stream",
          "name": "stdout",
          "text": [
            "Original String: hello\n",
            "Returned String: hello world\n",
            "Modified List: ['hello', 'world']\n"
          ]
        }
      ]
    },
    {
      "cell_type": "code",
      "source": [
        "# 7. Write a program that performs basic arithmetic operations on two user-input numbers.\n",
        "\n",
        "a = float(input(\"Enter first number: \"))\n",
        "b = float(input(\"Enter second number: \"))\n",
        "\n",
        "print(\"Addition:\", a + b)\n",
        "print(\"Subtraction:\", a - b)\n",
        "print(\"Multiplication:\", a * b)\n",
        "if b != 0:\n",
        "    print(\"Division:\", a / b)\n",
        "else:\n",
        "    print(\"can't divide by zero\")"
      ],
      "metadata": {
        "colab": {
          "base_uri": "https://localhost:8080/"
        },
        "id": "5YCr4WzNj_t7",
        "outputId": "76bba7fc-4497-47fe-926a-4f2d8f54151b"
      },
      "execution_count": 20,
      "outputs": [
        {
          "output_type": "stream",
          "name": "stdout",
          "text": [
            "Enter first number: 33\n",
            "Enter second number: 66\n",
            "Addition: 99.0\n",
            "Subtraction: -33.0\n",
            "Multiplication: 2178.0\n",
            "Division: 0.5\n"
          ]
        }
      ]
    },
    {
      "cell_type": "code",
      "source": [
        "# 8. Write a program to demonstrate the use of logical operators.\n",
        "x = 10\n",
        "y = 5\n",
        "print(\"x > 5 and y < 10:\", x > 5 and y < 10)\n",
        "print(\"x < 5 or y < 10:\", x < 5 or y < 10)\n",
        "print(\"not(x > 5):\", not(x > 5))"
      ],
      "metadata": {
        "colab": {
          "base_uri": "https://localhost:8080/"
        },
        "id": "Xiw2OxwukexZ",
        "outputId": "f18fbce6-3afa-430a-c6ce-610aaf4b8918"
      },
      "execution_count": 21,
      "outputs": [
        {
          "output_type": "stream",
          "name": "stdout",
          "text": [
            "x > 5 and y < 10: True\n",
            "x < 5 or y < 10: True\n",
            "not(x > 5): False\n"
          ]
        }
      ]
    },
    {
      "cell_type": "code",
      "source": [
        "# 9. Write a Python program to convert user input from string to integer, float, and boolean types.\n",
        "user_input = input(\"Enter something: \")\n",
        "\n",
        "int_num = int(user_input)\n",
        "float_num = float(user_input)\n",
        "bool_num = bool(user_input)\n",
        "\n",
        "print(\"As Integer:\", int_num)\n",
        "print(\"As Float:\", float_num)\n",
        "print(\"As Boolean:\", bool_num)"
      ],
      "metadata": {
        "colab": {
          "base_uri": "https://localhost:8080/"
        },
        "id": "lW1UYUXCkjvy",
        "outputId": "74cede64-14c6-4fe2-b8dc-b5fcbb134c37"
      },
      "execution_count": 22,
      "outputs": [
        {
          "output_type": "stream",
          "name": "stdout",
          "text": [
            "Enter something: 22\n",
            "As Integer: 22\n",
            "As Float: 22.0\n",
            "As Boolean: True\n"
          ]
        }
      ]
    },
    {
      "cell_type": "code",
      "source": [
        "# 10. Write code to demonstrate type casting with list elements.\n",
        "str_numbers = [\"1\", \"2\", \"3\"]\n",
        "int_numbers = [int(x) for x in str_numbers]\n",
        "\n",
        "print(\"Original List:\", str_numbers)\n",
        "print(\"After Type Casting:\", int_numbers)"
      ],
      "metadata": {
        "colab": {
          "base_uri": "https://localhost:8080/"
        },
        "id": "hZ5pyQvgki80",
        "outputId": "1621bcbb-4ad7-4728-f987-0f9d4f9b02f5"
      },
      "execution_count": 23,
      "outputs": [
        {
          "output_type": "stream",
          "name": "stdout",
          "text": [
            "Original List: ['1', '2', '3']\n",
            "After Type Casting: [1, 2, 3]\n"
          ]
        }
      ]
    },
    {
      "cell_type": "code",
      "source": [
        "# 11. Write a program that checks if a number is positive, negative, or zero.\n",
        "n = int(input(\"Enter a number: \"))\n",
        "\n",
        "if n > 0:\n",
        "    print(\"Positive\")\n",
        "elif n < 0:\n",
        "    print(\"Negative\")\n",
        "else:\n",
        "    print(\"Zero\")"
      ],
      "metadata": {
        "colab": {
          "base_uri": "https://localhost:8080/"
        },
        "id": "yqj4FCmmlUXa",
        "outputId": "94e4328b-1c37-4b12-e823-85cac46c6601"
      },
      "execution_count": 24,
      "outputs": [
        {
          "output_type": "stream",
          "name": "stdout",
          "text": [
            "Enter a number: 11\n",
            "Positive\n"
          ]
        }
      ]
    },
    {
      "cell_type": "code",
      "source": [
        "# 12. Write a for loop to print numbers from 1 to 10.\n",
        "for i in range(1, 11):\n",
        "    print(i)"
      ],
      "metadata": {
        "colab": {
          "base_uri": "https://localhost:8080/"
        },
        "id": "88BFXtyWlZpL",
        "outputId": "160dd915-0b9c-451d-82b7-4344cfa8dacd"
      },
      "execution_count": 25,
      "outputs": [
        {
          "output_type": "stream",
          "name": "stdout",
          "text": [
            "1\n",
            "2\n",
            "3\n",
            "4\n",
            "5\n",
            "6\n",
            "7\n",
            "8\n",
            "9\n",
            "10\n"
          ]
        }
      ]
    },
    {
      "cell_type": "code",
      "source": [
        "# 13. Write a Python program to find the sum of all even numbers between 1 and 50.\n",
        "even_sum = 0\n",
        "for i in range(2, 51, 2):\n",
        "    even_sum += i\n",
        "\n",
        "print(\"Sum of even numbers from 1 to 50:\", even_sum)"
      ],
      "metadata": {
        "colab": {
          "base_uri": "https://localhost:8080/"
        },
        "id": "KAM0TEvfleog",
        "outputId": "c98b570c-e518-4aad-e51c-d06cfeb055b9"
      },
      "execution_count": 26,
      "outputs": [
        {
          "output_type": "stream",
          "name": "stdout",
          "text": [
            "Sum of even numbers from 1 to 50: 650\n"
          ]
        }
      ]
    },
    {
      "cell_type": "code",
      "source": [
        "# 14. Write a program to reverse a string using a while loop.\n",
        "str1= input(\"enter a string : \")\n",
        "str2 = str1[::-1]\n",
        "print(str2)"
      ],
      "metadata": {
        "colab": {
          "base_uri": "https://localhost:8080/"
        },
        "id": "e_T2bbl4lYM7",
        "outputId": "6b261e4d-5978-469a-9cfb-e6a7bb14c3f7"
      },
      "execution_count": 27,
      "outputs": [
        {
          "output_type": "stream",
          "name": "stdout",
          "text": [
            "enter a string : 11\n",
            "11\n"
          ]
        }
      ]
    },
    {
      "cell_type": "code",
      "source": [
        "# 15. Write a Python program to calculate the factorial of a number provided by the user using a while loop.\n",
        "num = int(input(\"Enter a number: \"))\n",
        "factorial = 1\n",
        "i = 1\n",
        "while i <= num:\n",
        "    factorial *= i\n",
        "    i += 1\n",
        "print(\"Factorial of\", num, \"is\", factorial)"
      ],
      "metadata": {
        "colab": {
          "base_uri": "https://localhost:8080/"
        },
        "id": "kMqAAjjMmEPB",
        "outputId": "5a618955-e72a-4558-f32d-6ea06cabdaf7"
      },
      "execution_count": 28,
      "outputs": [
        {
          "output_type": "stream",
          "name": "stdout",
          "text": [
            "Enter a number: 1\n",
            "Factorial of 1 is 1\n"
          ]
        }
      ]
    },
    {
      "cell_type": "code",
      "source": [],
      "metadata": {
        "id": "J9_T2pt_mMqz"
      },
      "execution_count": 28,
      "outputs": []
    }
  ]
}